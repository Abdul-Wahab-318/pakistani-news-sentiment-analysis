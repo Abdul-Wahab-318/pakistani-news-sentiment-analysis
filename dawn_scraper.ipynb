{
 "cells": [
  {
   "cell_type": "code",
   "execution_count": 1,
   "id": "8103b035",
   "metadata": {},
   "outputs": [],
   "source": [
    "import requests\n",
    "import xml.etree.ElementTree as ET\n",
    "import re\n",
    "from datetime import datetime\n",
    "from bs4 import BeautifulSoup\n",
    "import time\n",
    "import os\n",
    "import schedule"
   ]
  },
  {
   "cell_type": "code",
   "execution_count": 2,
   "id": "318ed010",
   "metadata": {},
   "outputs": [],
   "source": [
    "# URL of the GEO news XML file\n",
    "url = 'https://www.dawn.com/feeds/home'\n",
    "MONGODB_URI = 'mongodb://localhost:27017/'"
   ]
  },
  {
   "cell_type": "code",
   "execution_count": 3,
   "id": "2ed2aa18",
   "metadata": {},
   "outputs": [],
   "source": [
    "def get_xml(url):\n",
    "    response = requests.get(url)\n",
    "    \n",
    "    if(response.status_code == 200):\n",
    "        xml_content = response.text\n",
    "        return xml_content\n",
    "    else:\n",
    "        print(\"could not fetch xml file : \" , response.status_code)\n",
    "        return None"
   ]
  },
  {
   "cell_type": "code",
   "execution_count": 4,
   "id": "874c9206",
   "metadata": {
    "scrolled": true
   },
   "outputs": [],
   "source": [
    "xml = get_xml(url)\n",
    "xml_root = ET.fromstring(xml)"
   ]
  },
  {
   "cell_type": "code",
   "execution_count": 5,
   "id": "e360013b",
   "metadata": {},
   "outputs": [],
   "source": [
    "def preprocess_publish_date(date):\n",
    "    date_format = \"%a, %d %b %Y %H:%M:%S %z\"\n",
    "    parsed_date = datetime.strptime(date , date_format)\n",
    "\n",
    "    return parsed_date\n",
    "\n",
    "def extract_xml(root):\n",
    "    \n",
    "    news_articles = []\n",
    "    namespaces = {'media': 'http://search.yahoo.com/mrss/'}\n",
    "        \n",
    "    for item in root.findall('.//item'):\n",
    "        \n",
    "        title = item.find('title').text.strip()\n",
    "        link = item.find('link').text.strip()\n",
    "        description = item.find('description').text\n",
    "        category = item.find('category').text\n",
    "        publish_date = preprocess_publish_date(item.find('pubDate').text)\n",
    "        image_url = item.find('media:content', namespaces).get('url')\n",
    "        \n",
    "        print(link)\n",
    "        \n",
    "        if(category != 'Pakistan'):\n",
    "            continue\n",
    "            \n",
    "        description_html = BeautifulSoup(description , 'lxml')\n",
    "        description = description_html.get_text().replace('\\n' ,' ')\n",
    "        \n",
    "        news_articles.append({\"title\":title , \n",
    "                              \"link\" :link , \n",
    "                              \"publish_date\":publish_date ,\n",
    "                              \"scraped_date\": datetime.now(),\n",
    "                              \"source\": \"DAWN\" , \n",
    "                              \"image_url\" : image_url,\n",
    "                              \"description\":description })\n",
    "        \n",
    "    return news_articles\n"
   ]
  },
  {
   "cell_type": "code",
   "execution_count": 6,
   "id": "39f4f8c6",
   "metadata": {},
   "outputs": [],
   "source": [
    "#This if for filtering out the articles that have been already scraped if they appear again in rss feed\n",
    "\n",
    "def find_disjoint(arr1, arr2):\n",
    "    # Convert arrays to sets\n",
    "    set1 = set(arr1)\n",
    "    set2 = set(arr2)\n",
    "    \n",
    "    # Find disjoint elements\n",
    "    disjoint = set1.difference(set2)\n",
    "    #  convert to list\n",
    "    disjoint = list(disjoint)\n",
    "    \n",
    "    return disjoint\n",
    "\n",
    "def filter_articles(articles):\n",
    "    try:\n",
    "        \n",
    "        current_titles = [ article['title'] for article in articles ]\n",
    "        \n",
    "        with open(os.path.abspath('dawn_prev_scraped_articles.txt') , 'r') as file:\n",
    "            prev_titles = file.readlines()\n",
    "            prev_titles = [ title.strip() for title in prev_titles ]\n",
    "    \n",
    "        current_titles = find_disjoint(current_titles , prev_titles)\n",
    "        \n",
    "    except FileNotFoundError as e:\n",
    "        print(f\"Error: {e}\")\n",
    "    \n",
    "    articles = [ article for article in articles if article[\"title\"] in current_titles ]\n",
    "    \n",
    "    return articles\n",
    "\n",
    "def cache_articles(articles):\n",
    "    \n",
    "    with open(os.path.abspath('dawn_prev_scraped_articles.txt') , 'w') as file:\n",
    "        for article in articles:\n",
    "            file.write(article[\"title\"] + '\\n')"
   ]
  },
  {
   "cell_type": "code",
   "execution_count": 7,
   "id": "74e71c48",
   "metadata": {},
   "outputs": [],
   "source": [
    "from pymongo import MongoClient\n",
    "\n",
    "def save_articles(articles):\n",
    "    \n",
    "    client = MongoClient(MONGODB_URI)\n",
    "    \n",
    "    if(len(articles) == 0):\n",
    "        print('No articles to insert.')\n",
    "        return\n",
    "    \n",
    "    try:\n",
    "        database = client.get_database(\"neutra_news\")\n",
    "        news_articles = database.get_collection(\"news_articles\")\n",
    "\n",
    "        result = news_articles.insert_many(articles)\n",
    "\n",
    "        print(\"Articles inserted : \" , len(result.inserted_ids))\n",
    "        \n",
    "        \n",
    "        client.close()\n",
    "\n",
    "    except Exception as e:\n",
    "        raise Exception(\"Unable to find the document due to the following error: \", e)"
   ]
  },
  {
   "cell_type": "code",
   "execution_count": 8,
   "id": "f49b9540",
   "metadata": {},
   "outputs": [],
   "source": [
    "def scrape():\n",
    "    \n",
    "    xml = get_xml(url)\n",
    "    xml_root = ET.fromstring(xml)\n",
    "    \n",
    "    news_articles = extract_xml(xml_root)\n",
    "    latest_news_articles = filter_articles(news_articles)\n",
    "    cache_articles(news_articles)\n",
    "    save_articles(latest_news_articles)\n",
    "    \n",
    "    print(\"prev : \" , len(news_articles))\n",
    "    print(\"new : \" , len(latest_news_articles))\n",
    "    print('Time : ' , datetime.now().strftime(\"%A, %B %d, %Y %I:%M %p\"))\n",
    "    \n",
    "    "
   ]
  },
  {
   "cell_type": "code",
   "execution_count": 9,
   "id": "444481ba",
   "metadata": {},
   "outputs": [
    {
     "name": "stdout",
     "output_type": "stream",
     "text": [
      "https://www.dawn.com/news/1856848/us-to-continue-to-stand-shoulder-to-shoulder-with-pakistan-against-terrorism\n",
      "https://www.dawn.com/news/1856793/vpn-users-actually-fared-better-during-internet-slowdown-report\n",
      "https://www.dawn.com/news/1856789/ecp-refuses-to-share-financial-details-on-election-expenses-with-senate-panel\n",
      "https://www.dawn.com/news/1856857/\n",
      "https://www.dawn.com/news/1856749/sc-reserves-decision-on-review-pleas-in-monal-restaurant-case\n",
      "https://www.dawn.com/news/1856811/rumours-swirl-after-imran-moves-ihc-against-possible-military-trial\n",
      "https://www.dawn.com/news/1856809/allies-disagree-as-na-discusses-thorny-issues\n",
      "https://www.dawn.com/news/1856761/provincial-assembly-demands-expulsion-of-all-illegal-immigrants-from-sindh\n",
      "https://www.dawn.com/news/1856765/man-in-karachi-convicted-of-sharing-wifes-explicit-photos-on-whatsapp\n",
      "https://www.dawn.com/news/1856763/sindh-govt-increases-monthly-octroi-zilla-tax-share-of-ucs-across-province\n",
      "https://www.dawn.com/news/1856868/bangladesh-revels-in-tigers-burning-bright-after-pakistan-test-series-triumph\n",
      "https://www.dawn.com/news/1856394/piety-paradox-how-iddat-became-the-casualty-of-a-turf-war-over-pakistans-family-laws\n",
      "https://www.dawn.com/news/1856801/indian-state-passes-law-seeking-death-penalty-for-rape\n",
      "https://www.dawn.com/news/1856751/senate-body-approves-bill-on-peaceful-assembly-in-islamabad-amid-opposition-uproar\n",
      "https://www.dawn.com/news/1856795/contributory-pension-scheme-unveiled\n",
      "https://www.dawn.com/news/1856803/world-sees-record-august-heat-for-second-year-running\n",
      "https://www.dawn.com/news/1856806/pope-francis-arrives-in-indonesia-to-begin-ambitious-asia-pacific-tour\n",
      "https://www.dawn.com/news/1856724/railways-signs-deals-for-laying-optical-fibre-on-two-routes\n",
      "https://www.dawn.com/news/1856769/test-coach-mccullum-to-take-charge-of-england-white-ball-teams\n",
      "https://www.dawn.com/news/1856772/no-alarm-for-sinner-swiatek-as-top-seeds-ease-into-quarters\n",
      "https://www.dawn.com/news/1856816/aurangzeb-sets-sights-on-stability-with-imf-deal\n",
      "https://www.dawn.com/news/1856723/flood-warning-for-dg-khan-terrain-issued\n",
      "https://www.dawn.com/news/1856720/oryas-post-arrest-bail-plea-rejected\n",
      "https://www.dawn.com/news/1856721/no-clue-to-attackers-in-lahores-canal-road-murder\n",
      "Articles inserted :  12\n",
      "prev :  12\n",
      "new :  12\n",
      "Time :  Wednesday, September 04, 2024 01:35 PM\n"
     ]
    }
   ],
   "source": [
    "scrape()"
   ]
  },
  {
   "cell_type": "code",
   "execution_count": null,
   "id": "60ccab15",
   "metadata": {},
   "outputs": [],
   "source": [
    "schedule.every(1).hour.do(scrape)\n",
    "\n",
    "while True:\n",
    "    schedule.run_pending()\n",
    "    time.sleep(1)"
   ]
  },
  {
   "cell_type": "code",
   "execution_count": null,
   "id": "d50c945c",
   "metadata": {},
   "outputs": [],
   "source": []
  }
 ],
 "metadata": {
  "kernelspec": {
   "display_name": "Python 3 (ipykernel)",
   "language": "python",
   "name": "python3"
  },
  "language_info": {
   "codemirror_mode": {
    "name": "ipython",
    "version": 3
   },
   "file_extension": ".py",
   "mimetype": "text/x-python",
   "name": "python",
   "nbconvert_exporter": "python",
   "pygments_lexer": "ipython3",
   "version": "3.11.5"
  }
 },
 "nbformat": 4,
 "nbformat_minor": 5
}
